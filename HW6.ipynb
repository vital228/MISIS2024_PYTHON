{
 "cells": [
  {
   "cell_type": "markdown",
   "metadata": {},
   "source": [
    "Задача 1. Напишите программу с классом Student, в котором есть три атрибута: name, groupNumber и age. По умолчанию name = Ivan, age = 18, groupNumber = 10A. Необходимо создать пять методов: getName, getAge, getGroupNumber, setNameAge, setGroupNumber. Метод getName нужен для получения данных об имени конкретного студента, метод getAge нужен для получения данных о возрасте конкретного студента, vетод setGroupNumberнужен для получения данных о номере группы конкретного студента. Метод SetNameAge позволяет изменить данные атрибутов установленных по умолчанию, метод setGroupNumber позволяет изменить номер группы установленный по умолчанию. В программе необходимо создать пять экземпляров класса Student, установить им разные имена, возраст и номер группы."
   ]
  },
  {
   "cell_type": "code",
   "execution_count": 11,
   "metadata": {},
   "outputs": [],
   "source": [
    "class Student:\n",
    "    def __init__(self, name = 'Ivan', age = 18, groupNumber = '10A'):\n",
    "        self.name = name\n",
    "        self.age = age\n",
    "        self.groupNumber = groupNumber\n",
    "    \n",
    "    def getName(self):\n",
    "        return self.name\n",
    "\n",
    "    def getAge(self):\n",
    "        return self.age\n",
    "\n",
    "    def getGroupNumber(self):\n",
    "        return self.groupNumber\n",
    "\n",
    "    def setNameAge(self, name, age):\n",
    "        self.name = name\n",
    "        self.age = age\n",
    "    \n",
    "    def setGroupNumber(self, groupNumber):\n",
    "        self.groupNumber = groupNumber\n",
    "\n",
    "    def __str__(self):\n",
    "        return f\"{self.getName()} {self.getAge()} лет учиться в {self.getGroupNumber()}\""
   ]
  },
  {
   "cell_type": "code",
   "execution_count": 12,
   "metadata": {},
   "outputs": [],
   "source": [
    "students = [Student(), Student(\"Vasya\", 10, \"4B\"),\n",
    "            Student(age=16, groupNumber=\"9A\"), Student(\"Petya\"),\n",
    "            Student(name=\"Anna\", groupNumber=\"10B\")]\n",
    "\n",
    "students[4].setNameAge(\"Maria\", 17)"
   ]
  },
  {
   "cell_type": "code",
   "execution_count": 15,
   "metadata": {},
   "outputs": [
    {
     "name": "stdout",
     "output_type": "stream",
     "text": [
      "Ivan 18 лет учиться в 10A\n",
      "Vasya 10 лет учиться в 4B\n",
      "Ivan 16 лет учиться в 9A\n",
      "Petya 18 лет учиться в 10A\n",
      "Maria 17 лет учиться в 10B\n"
     ]
    }
   ],
   "source": [
    "for student in students:\n",
    "    print(student)"
   ]
  },
  {
   "cell_type": "markdown",
   "metadata": {},
   "source": [
    "Задача 2. Напишите программу с классом Car. Создайте конструктор класса Car. Создайте атрибуты класса Car — color (цвет), type (тип), year (год). Напишите пять методов. Первый — запуск автомобиля, при его вызове выводится сообщение «Автомобиль заведен». Второй — отключение автомобиля — выводит сообщение «Автомобиль заглушен». Третий — присвоение автомобилю года выпуска. Четвертый метод — присвоение автомобилю типа. Пятый — присвоение автомобилю цвета."
   ]
  },
  {
   "cell_type": "code",
   "execution_count": 1,
   "metadata": {},
   "outputs": [],
   "source": [
    "class Car:\n",
    "    def __init__(self, color, type, year):\n",
    "        self.color = color\n",
    "        self.type = type\n",
    "        self.year = year\n",
    "\n",
    "    def start(self):\n",
    "        print(\"Автомобиль заведен\")\n",
    "\n",
    "    def stop(self):\n",
    "        print(\"Автомобиль заглушен\")\n",
    "\n",
    "    def set_year(self, year):\n",
    "        self.year = year \n",
    "\n",
    "    def set_color(self, color):\n",
    "        self.color = color \n",
    "    \n",
    "    def set_type(self, type):\n",
    "        self.type = type "
   ]
  },
  {
   "cell_type": "markdown",
   "metadata": {},
   "source": [
    "Задача 3. Допишите функцию Nutrion"
   ]
  },
  {
   "cell_type": "code",
   "execution_count": 2,
   "metadata": {},
   "outputs": [],
   "source": [
    "class NutritionInfo:\n",
    "    def __init__(self, proteins, carbs, fats):\n",
    "        self.proteins = proteins\n",
    "        self.carbs = carbs\n",
    "        self.fats = fats\n",
    "    \n",
    "    def __add__(self, other):\n",
    "        return NutritionInfo(self.proteins + other.proteins, self.carbs + other.carbs, self.fats + other.fats)\n",
    "    \n",
    "    def __str__(self):\n",
    "        return f\"Nutrition p {self.proteins}, c {self.carbs}, f {self.fats}\"\n",
    "        \n",
    "    def energy(self):\n",
    "        return int(self.fats * 9 + (self.carbs + self.proteins) * 4.2)\n",
    "    \n",
    "    def __mul__(self, count: int):\n",
    "        return NutritionInfo(self.proteins * count, self.carbs * count, self.fats * count)"
   ]
  },
  {
   "cell_type": "code",
   "execution_count": 5,
   "metadata": {},
   "outputs": [
    {
     "name": "stdout",
     "output_type": "stream",
     "text": [
      "Nutrition p 0, c 0, f 0\n"
     ]
    }
   ],
   "source": [
    "nun = NutritionInfo(10, 20, 30)\n",
    "nun = nun * 0\n",
    "print(nun)"
   ]
  }
 ],
 "metadata": {
  "kernelspec": {
   "display_name": ".venv",
   "language": "python",
   "name": "python3"
  },
  "language_info": {
   "codemirror_mode": {
    "name": "ipython",
    "version": 3
   },
   "file_extension": ".py",
   "mimetype": "text/x-python",
   "name": "python",
   "nbconvert_exporter": "python",
   "pygments_lexer": "ipython3",
   "version": "3.11.5"
  }
 },
 "nbformat": 4,
 "nbformat_minor": 2
}
